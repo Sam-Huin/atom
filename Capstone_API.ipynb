{
  "nbformat": 4,
  "nbformat_minor": 0,
  "metadata": {
    "kernelspec": {
      "display_name": "Python 3",
      "language": "python",
      "name": "python3"
    },
    "language_info": {
      "codemirror_mode": {
        "name": "ipython",
        "version": 3
      },
      "file_extension": ".py",
      "mimetype": "text/x-python",
      "name": "python",
      "nbconvert_exporter": "python",
      "pygments_lexer": "ipython3",
      "version": "3.7.5"
    },
    "colab": {
      "name": "Capstone_API.ipynb",
      "provenance": [],
      "collapsed_sections": [],
      "include_colab_link": true
    }
  },
  "cells": [
    {
      "cell_type": "markdown",
      "metadata": {
        "id": "view-in-github",
        "colab_type": "text"
      },
      "source": [
        "<a href=\"https://colab.research.google.com/github/Sam-Huin/atom/blob/master/Capstone_API.ipynb\" target=\"_parent\"><img src=\"https://colab.research.google.com/assets/colab-badge.svg\" alt=\"Open In Colab\"/></a>"
      ]
    },
    {
      "cell_type": "code",
      "metadata": {
        "id": "7MbBuxlY-9bP",
        "colab_type": "code",
        "colab": {
          "base_uri": "https://localhost:8080/",
          "height": 90
        },
        "outputId": "e6f8403e-4829-46c5-b6b9-6b4040de4d9a"
      },
      "source": [
        "pip install bitfinex-tencars"
      ],
      "execution_count": 3,
      "outputs": [
        {
          "output_type": "stream",
          "text": [
            "Collecting bitfinex-tencars\n",
            "  Downloading https://files.pythonhosted.org/packages/1e/a3/319c3b268bf5672ff0a6655359418ea8a00037323dd4258aa8bd2123aabd/bitfinex_tencars-0.0.3-py3-none-any.whl\n",
            "Installing collected packages: bitfinex-tencars\n",
            "Successfully installed bitfinex-tencars-0.0.3\n"
          ],
          "name": "stdout"
        }
      ]
    },
    {
      "cell_type": "code",
      "metadata": {
        "id": "V7f5IlQM-9bd",
        "colab_type": "code",
        "colab": {}
      },
      "source": [
        "import bitfinex\n",
        "import pandas as pd"
      ],
      "execution_count": 0,
      "outputs": []
    },
    {
      "cell_type": "code",
      "metadata": {
        "id": "qK9XoVKY-9bm",
        "colab_type": "code",
        "colab": {}
      },
      "source": [
        "def fetch_data(start, stop, symbol, interval, tick_limit, step):\n",
        "    # Create api instance\n",
        "    api_v2 = bitfinex.bitfinex_v2.api_v2()\n",
        "    data = []\n",
        "    start = start - step\n",
        "    while start < stop:\n",
        "        start = start + step\n",
        "        end = start + step\n",
        "        res = api_v2.candles(symbol=symbol, interval=interval, limit=tick_limit, start=start, end=end)\n",
        "        data.extend(res)\n",
        "        time.sleep(2)\n",
        "    return data"
      ],
      "execution_count": 0,
      "outputs": []
    },
    {
      "cell_type": "code",
      "metadata": {
        "id": "_xycORBw-9bt",
        "colab_type": "code",
        "colab": {
          "base_uri": "https://localhost:8080/",
          "height": 35
        },
        "outputId": "fd62ac80-6953-4665-c53e-f04030e742e7"
      },
      "source": [
        "import datetime\n",
        "import time\n",
        "\n",
        "# Define query parameters\n",
        "pair = 'btcusd' # Currency pair of interest\n",
        "bin_size = '3h' # This will return 3hourly data\n",
        "limit = 1000    # We want the maximum of 1000 data points\n",
        "\n",
        "# Set step size\n",
        "time_step = 1080000000\n",
        "\n",
        "# Define the start date \n",
        "t_start = datetime.datetime(2017, 1, 1, 0, 0)\n",
        "t_start = time.mktime(t_start.timetuple()) * 1000\n",
        "\n",
        "# Define the end date\n",
        "t_stop = datetime.datetime(2019, 10, 1, 0, 0)\n",
        "t_stop = time.mktime(t_stop.timetuple()) * 1000\n",
        "\n",
        "pair_data = fetch_data(start=t_start, stop=t_stop, symbol=pair, interval=bin_size, tick_limit=limit, step=time_step)"
      ],
      "execution_count": 11,
      "outputs": [
        {
          "output_type": "stream",
          "text": [
            "No keys, only access to public API functions\n"
          ],
          "name": "stdout"
        }
      ]
    },
    {
      "cell_type": "code",
      "metadata": {
        "id": "2GBK6iDd-9b8",
        "colab_type": "code",
        "colab": {}
      },
      "source": [
        "import pandas as pd\n",
        "\n",
        "# Create pandas data frame and clean/format data\n",
        "names = ['Date_Time', 'Open', 'Close', 'High', 'Low', 'Volume']\n",
        "df = pd.DataFrame(pair_data, columns=names)\n",
        "df.drop_duplicates(inplace=True)\n",
        "df['Date_Time'] = pd.to_datetime(df['Date_Time'], unit='ms')\n",
        "df.set_index('Date_Time', inplace=True)\n",
        "df.sort_index(inplace=True)"
      ],
      "execution_count": 0,
      "outputs": []
    },
    {
      "cell_type": "code",
      "metadata": {
        "id": "IxBQFC_O-9cB",
        "colab_type": "code",
        "colab": {
          "base_uri": "https://localhost:8080/",
          "height": 35
        },
        "outputId": "e85567cb-4cd8-41ee-ef28-8b3343b57e1c"
      },
      "source": [
        "df.shape"
      ],
      "execution_count": 13,
      "outputs": [
        {
          "output_type": "execute_result",
          "data": {
            "text/plain": [
              "(8201, 5)"
            ]
          },
          "metadata": {
            "tags": []
          },
          "execution_count": 13
        }
      ]
    },
    {
      "cell_type": "code",
      "metadata": {
        "id": "CdzUUfPC-9cH",
        "colab_type": "code",
        "colab": {
          "base_uri": "https://localhost:8080/",
          "height": 455
        },
        "outputId": "01ba5116-145a-4c26-e7b2-5a63bff9c35b"
      },
      "source": [
        "df"
      ],
      "execution_count": 14,
      "outputs": [
        {
          "output_type": "execute_result",
          "data": {
            "text/html": [
              "<div>\n",
              "<style scoped>\n",
              "    .dataframe tbody tr th:only-of-type {\n",
              "        vertical-align: middle;\n",
              "    }\n",
              "\n",
              "    .dataframe tbody tr th {\n",
              "        vertical-align: top;\n",
              "    }\n",
              "\n",
              "    .dataframe thead th {\n",
              "        text-align: right;\n",
              "    }\n",
              "</style>\n",
              "<table border=\"1\" class=\"dataframe\">\n",
              "  <thead>\n",
              "    <tr style=\"text-align: right;\">\n",
              "      <th></th>\n",
              "      <th>Open</th>\n",
              "      <th>Close</th>\n",
              "      <th>High</th>\n",
              "      <th>Low</th>\n",
              "      <th>Volume</th>\n",
              "    </tr>\n",
              "    <tr>\n",
              "      <th>Date_Time</th>\n",
              "      <th></th>\n",
              "      <th></th>\n",
              "      <th></th>\n",
              "      <th></th>\n",
              "      <th></th>\n",
              "    </tr>\n",
              "  </thead>\n",
              "  <tbody>\n",
              "    <tr>\n",
              "      <th>2017-01-01 00:00:00</th>\n",
              "      <td>966.61</td>\n",
              "      <td>965.000000</td>\n",
              "      <td>967.79</td>\n",
              "      <td>965.00</td>\n",
              "      <td>226.067256</td>\n",
              "    </tr>\n",
              "    <tr>\n",
              "      <th>2017-01-01 03:00:00</th>\n",
              "      <td>965.01</td>\n",
              "      <td>964.880000</td>\n",
              "      <td>965.20</td>\n",
              "      <td>961.26</td>\n",
              "      <td>228.311999</td>\n",
              "    </tr>\n",
              "    <tr>\n",
              "      <th>2017-01-01 06:00:00</th>\n",
              "      <td>963.90</td>\n",
              "      <td>965.460000</td>\n",
              "      <td>967.45</td>\n",
              "      <td>962.60</td>\n",
              "      <td>282.771187</td>\n",
              "    </tr>\n",
              "    <tr>\n",
              "      <th>2017-01-01 09:00:00</th>\n",
              "      <td>965.41</td>\n",
              "      <td>978.160000</td>\n",
              "      <td>978.89</td>\n",
              "      <td>965.37</td>\n",
              "      <td>1806.444917</td>\n",
              "    </tr>\n",
              "    <tr>\n",
              "      <th>2017-01-01 12:00:00</th>\n",
              "      <td>977.11</td>\n",
              "      <td>978.450000</td>\n",
              "      <td>978.59</td>\n",
              "      <td>970.85</td>\n",
              "      <td>490.728218</td>\n",
              "    </tr>\n",
              "    <tr>\n",
              "      <th>...</th>\n",
              "      <td>...</td>\n",
              "      <td>...</td>\n",
              "      <td>...</td>\n",
              "      <td>...</td>\n",
              "      <td>...</td>\n",
              "    </tr>\n",
              "    <tr>\n",
              "      <th>2019-10-22 12:00:00</th>\n",
              "      <td>8310.50</td>\n",
              "      <td>8236.000000</td>\n",
              "      <td>8333.00</td>\n",
              "      <td>8215.80</td>\n",
              "      <td>653.392499</td>\n",
              "    </tr>\n",
              "    <tr>\n",
              "      <th>2019-10-22 15:00:00</th>\n",
              "      <td>8235.90</td>\n",
              "      <td>8229.400000</td>\n",
              "      <td>8247.90</td>\n",
              "      <td>8140.50</td>\n",
              "      <td>647.771000</td>\n",
              "    </tr>\n",
              "    <tr>\n",
              "      <th>2019-10-22 18:00:00</th>\n",
              "      <td>8229.60</td>\n",
              "      <td>8159.000000</td>\n",
              "      <td>8233.30</td>\n",
              "      <td>8102.40</td>\n",
              "      <td>745.783474</td>\n",
              "    </tr>\n",
              "    <tr>\n",
              "      <th>2019-10-22 21:00:00</th>\n",
              "      <td>8159.00</td>\n",
              "      <td>8054.300000</td>\n",
              "      <td>8159.00</td>\n",
              "      <td>8034.90</td>\n",
              "      <td>706.124434</td>\n",
              "    </tr>\n",
              "    <tr>\n",
              "      <th>2019-10-23 00:00:00</th>\n",
              "      <td>8054.00</td>\n",
              "      <td>8058.809701</td>\n",
              "      <td>8074.50</td>\n",
              "      <td>8017.50</td>\n",
              "      <td>579.024497</td>\n",
              "    </tr>\n",
              "  </tbody>\n",
              "</table>\n",
              "<p>8201 rows × 5 columns</p>\n",
              "</div>"
            ],
            "text/plain": [
              "                        Open        Close     High      Low       Volume\n",
              "Date_Time                                                               \n",
              "2017-01-01 00:00:00   966.61   965.000000   967.79   965.00   226.067256\n",
              "2017-01-01 03:00:00   965.01   964.880000   965.20   961.26   228.311999\n",
              "2017-01-01 06:00:00   963.90   965.460000   967.45   962.60   282.771187\n",
              "2017-01-01 09:00:00   965.41   978.160000   978.89   965.37  1806.444917\n",
              "2017-01-01 12:00:00   977.11   978.450000   978.59   970.85   490.728218\n",
              "...                      ...          ...      ...      ...          ...\n",
              "2019-10-22 12:00:00  8310.50  8236.000000  8333.00  8215.80   653.392499\n",
              "2019-10-22 15:00:00  8235.90  8229.400000  8247.90  8140.50   647.771000\n",
              "2019-10-22 18:00:00  8229.60  8159.000000  8233.30  8102.40   745.783474\n",
              "2019-10-22 21:00:00  8159.00  8054.300000  8159.00  8034.90   706.124434\n",
              "2019-10-23 00:00:00  8054.00  8058.809701  8074.50  8017.50   579.024497\n",
              "\n",
              "[8201 rows x 5 columns]"
            ]
          },
          "metadata": {
            "tags": []
          },
          "execution_count": 14
        }
      ]
    },
    {
      "cell_type": "code",
      "metadata": {
        "id": "O-LcO2oJ-9cO",
        "colab_type": "code",
        "colab": {}
      },
      "source": [
        "from google.colab import files\n",
        "df.to_csv('bitcoin_3hrs.csv')\n",
        "files.download(\"bitcoin_3hrs.csv\")"
      ],
      "execution_count": 0,
      "outputs": []
    },
    {
      "cell_type": "code",
      "metadata": {
        "id": "OCpJlnAUJqqs",
        "colab_type": "code",
        "colab": {}
      },
      "source": [
        "df.to_excel('btc_3h.xlsx')"
      ],
      "execution_count": 0,
      "outputs": []
    },
    {
      "cell_type": "code",
      "metadata": {
        "id": "B9tXnkBbJ0m-",
        "colab_type": "code",
        "colab": {}
      },
      "source": [
        "files.download('btc_3h.xlsx')"
      ],
      "execution_count": 0,
      "outputs": []
    },
    {
      "cell_type": "code",
      "metadata": {
        "id": "inTFH8lf-9cY",
        "colab_type": "code",
        "colab": {
          "base_uri": "https://localhost:8080/",
          "height": 35
        },
        "outputId": "618d8cad-5798-45a4-9256-30ce58c426de"
      },
      "source": [
        "# Define query parameters\n",
        "pair = 'btcusd' # Currency pair of interest\n",
        "bin_size = '1h' # This will return hourly data\n",
        "limit = 1000    # We want the maximum of 1000 data points\n",
        "\n",
        "# Set step size\n",
        "time_step = 360000000\n",
        "\n",
        "# Define the start date \n",
        "t_start = datetime.datetime(2017, 1, 1, 0, 0)\n",
        "t_start = time.mktime(t_start.timetuple()) * 1000\n",
        "\n",
        "# Define the end date\n",
        "t_stop = datetime.datetime(2019, 10, 1, 0, 0)\n",
        "t_stop = time.mktime(t_stop.timetuple()) * 1000\n",
        "\n",
        "pair_data = fetch_data(start=t_start, stop=t_stop, symbol=pair, interval=bin_size, tick_limit=limit, step=time_step)"
      ],
      "execution_count": 24,
      "outputs": [
        {
          "output_type": "stream",
          "text": [
            "No keys, only access to public API functions\n"
          ],
          "name": "stdout"
        }
      ]
    },
    {
      "cell_type": "code",
      "metadata": {
        "id": "lVf15Z2hGS52",
        "colab_type": "code",
        "colab": {}
      },
      "source": [
        "# Create pandas data frame and clean/format data\n",
        "names = ['Date_Time', 'Open', 'Close', 'High', 'Low', 'Volume']\n",
        "df2 = pd.DataFrame(pair_data, columns=names)\n",
        "df2.drop_duplicates(inplace=True)\n",
        "df2['Date_Time'] = pd.to_datetime(df2['Date_Time'], unit='ms')\n",
        "df2.set_index('Date_Time', inplace=True)\n",
        "df2.sort_index(inplace=True)"
      ],
      "execution_count": 0,
      "outputs": []
    },
    {
      "cell_type": "code",
      "metadata": {
        "id": "Lw1t829ZIrc0",
        "colab_type": "code",
        "colab": {
          "base_uri": "https://localhost:8080/",
          "height": 35
        },
        "outputId": "5101acab-bcc0-48e4-d5ce-02ae29bc0a79"
      },
      "source": [
        "df2.shape"
      ],
      "execution_count": 26,
      "outputs": [
        {
          "output_type": "execute_result",
          "data": {
            "text/plain": [
              "(24194, 5)"
            ]
          },
          "metadata": {
            "tags": []
          },
          "execution_count": 26
        }
      ]
    },
    {
      "cell_type": "code",
      "metadata": {
        "id": "VJAGkU3ZIty-",
        "colab_type": "code",
        "colab": {
          "base_uri": "https://localhost:8080/",
          "height": 455
        },
        "outputId": "05866da9-dbc0-4d6b-90e0-83c7a029a2ae"
      },
      "source": [
        "df2"
      ],
      "execution_count": 27,
      "outputs": [
        {
          "output_type": "execute_result",
          "data": {
            "text/html": [
              "<div>\n",
              "<style scoped>\n",
              "    .dataframe tbody tr th:only-of-type {\n",
              "        vertical-align: middle;\n",
              "    }\n",
              "\n",
              "    .dataframe tbody tr th {\n",
              "        vertical-align: top;\n",
              "    }\n",
              "\n",
              "    .dataframe thead th {\n",
              "        text-align: right;\n",
              "    }\n",
              "</style>\n",
              "<table border=\"1\" class=\"dataframe\">\n",
              "  <thead>\n",
              "    <tr style=\"text-align: right;\">\n",
              "      <th></th>\n",
              "      <th>Open</th>\n",
              "      <th>Close</th>\n",
              "      <th>High</th>\n",
              "      <th>Low</th>\n",
              "      <th>Volume</th>\n",
              "    </tr>\n",
              "    <tr>\n",
              "      <th>Date_Time</th>\n",
              "      <th></th>\n",
              "      <th></th>\n",
              "      <th></th>\n",
              "      <th></th>\n",
              "      <th></th>\n",
              "    </tr>\n",
              "  </thead>\n",
              "  <tbody>\n",
              "    <tr>\n",
              "      <th>2017-01-01 00:00:00</th>\n",
              "      <td>966.610000</td>\n",
              "      <td>967.000000</td>\n",
              "      <td>967.790000</td>\n",
              "      <td>965.000000</td>\n",
              "      <td>95.564614</td>\n",
              "    </tr>\n",
              "    <tr>\n",
              "      <th>2017-01-01 01:00:00</th>\n",
              "      <td>967.000000</td>\n",
              "      <td>965.500000</td>\n",
              "      <td>967.250000</td>\n",
              "      <td>965.500000</td>\n",
              "      <td>60.662494</td>\n",
              "    </tr>\n",
              "    <tr>\n",
              "      <th>2017-01-01 02:00:00</th>\n",
              "      <td>965.590000</td>\n",
              "      <td>965.000000</td>\n",
              "      <td>966.590000</td>\n",
              "      <td>965.000000</td>\n",
              "      <td>69.840147</td>\n",
              "    </tr>\n",
              "    <tr>\n",
              "      <th>2017-01-01 03:00:00</th>\n",
              "      <td>965.010000</td>\n",
              "      <td>964.490000</td>\n",
              "      <td>965.010000</td>\n",
              "      <td>963.160000</td>\n",
              "      <td>56.699787</td>\n",
              "    </tr>\n",
              "    <tr>\n",
              "      <th>2017-01-01 04:00:00</th>\n",
              "      <td>963.840000</td>\n",
              "      <td>962.600000</td>\n",
              "      <td>963.900000</td>\n",
              "      <td>961.260000</td>\n",
              "      <td>80.570159</td>\n",
              "    </tr>\n",
              "    <tr>\n",
              "      <th>...</th>\n",
              "      <td>...</td>\n",
              "      <td>...</td>\n",
              "      <td>...</td>\n",
              "      <td>...</td>\n",
              "      <td>...</td>\n",
              "    </tr>\n",
              "    <tr>\n",
              "      <th>2019-10-06 04:00:00</th>\n",
              "      <td>8082.100000</td>\n",
              "      <td>8114.100000</td>\n",
              "      <td>8118.000000</td>\n",
              "      <td>8081.500000</td>\n",
              "      <td>39.858922</td>\n",
              "    </tr>\n",
              "    <tr>\n",
              "      <th>2019-10-06 05:00:00</th>\n",
              "      <td>8114.081823</td>\n",
              "      <td>8089.952108</td>\n",
              "      <td>8115.700000</td>\n",
              "      <td>8076.640154</td>\n",
              "      <td>50.921535</td>\n",
              "    </tr>\n",
              "    <tr>\n",
              "      <th>2019-10-06 06:00:00</th>\n",
              "      <td>8089.900000</td>\n",
              "      <td>7998.700000</td>\n",
              "      <td>8098.800000</td>\n",
              "      <td>7951.600000</td>\n",
              "      <td>757.315096</td>\n",
              "    </tr>\n",
              "    <tr>\n",
              "      <th>2019-10-06 07:00:00</th>\n",
              "      <td>7998.500000</td>\n",
              "      <td>8000.200000</td>\n",
              "      <td>8012.700000</td>\n",
              "      <td>7972.300000</td>\n",
              "      <td>138.447585</td>\n",
              "    </tr>\n",
              "    <tr>\n",
              "      <th>2019-10-06 08:00:00</th>\n",
              "      <td>8000.109821</td>\n",
              "      <td>7911.000000</td>\n",
              "      <td>8000.109821</td>\n",
              "      <td>7911.000000</td>\n",
              "      <td>409.436496</td>\n",
              "    </tr>\n",
              "  </tbody>\n",
              "</table>\n",
              "<p>24194 rows × 5 columns</p>\n",
              "</div>"
            ],
            "text/plain": [
              "                            Open        Close  ...          Low      Volume\n",
              "Date_Time                                      ...                         \n",
              "2017-01-01 00:00:00   966.610000   967.000000  ...   965.000000   95.564614\n",
              "2017-01-01 01:00:00   967.000000   965.500000  ...   965.500000   60.662494\n",
              "2017-01-01 02:00:00   965.590000   965.000000  ...   965.000000   69.840147\n",
              "2017-01-01 03:00:00   965.010000   964.490000  ...   963.160000   56.699787\n",
              "2017-01-01 04:00:00   963.840000   962.600000  ...   961.260000   80.570159\n",
              "...                          ...          ...  ...          ...         ...\n",
              "2019-10-06 04:00:00  8082.100000  8114.100000  ...  8081.500000   39.858922\n",
              "2019-10-06 05:00:00  8114.081823  8089.952108  ...  8076.640154   50.921535\n",
              "2019-10-06 06:00:00  8089.900000  7998.700000  ...  7951.600000  757.315096\n",
              "2019-10-06 07:00:00  7998.500000  8000.200000  ...  7972.300000  138.447585\n",
              "2019-10-06 08:00:00  8000.109821  7911.000000  ...  7911.000000  409.436496\n",
              "\n",
              "[24194 rows x 5 columns]"
            ]
          },
          "metadata": {
            "tags": []
          },
          "execution_count": 27
        }
      ]
    },
    {
      "cell_type": "code",
      "metadata": {
        "id": "tl7x0E4PIzQV",
        "colab_type": "code",
        "colab": {}
      },
      "source": [
        "df2.to_csv('bitcoin_hourly.csv')\n",
        "files.download('bitcoin_hourly.csv')"
      ],
      "execution_count": 0,
      "outputs": []
    },
    {
      "cell_type": "code",
      "metadata": {
        "id": "bedhrIolJa_0",
        "colab_type": "code",
        "colab": {}
      },
      "source": [
        "df2.to_excel('btc_1h.xlsx')\n",
        "files.download(\"btc_1h.xlsx\")"
      ],
      "execution_count": 0,
      "outputs": []
    },
    {
      "cell_type": "code",
      "metadata": {
        "id": "1x82TgQFK1bJ",
        "colab_type": "code",
        "colab": {}
      },
      "source": [
        ""
      ],
      "execution_count": 0,
      "outputs": []
    }
  ]
}