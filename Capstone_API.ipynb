{
  "nbformat": 4,
  "nbformat_minor": 0,
  "metadata": {
    "kernelspec": {
      "display_name": "Python 3",
      "language": "python",
      "name": "python3"
    },
    "language_info": {
      "codemirror_mode": {
        "name": "ipython",
        "version": 3
      },
      "file_extension": ".py",
      "mimetype": "text/x-python",
      "name": "python",
      "nbconvert_exporter": "python",
      "pygments_lexer": "ipython3",
      "version": "3.7.5"
    },
    "colab": {
      "name": "Capstone_API.ipynb",
      "provenance": [],
      "collapsed_sections": [],
      "include_colab_link": true
    }
  },
  "cells": [
    {
      "cell_type": "markdown",
      "metadata": {
        "id": "view-in-github",
        "colab_type": "text"
      },
      "source": [
        "<a href=\"https://colab.research.google.com/github/Sam-Huin/atom/blob/master/Capstone_API.ipynb\" target=\"_parent\"><img src=\"https://colab.research.google.com/assets/colab-badge.svg\" alt=\"Open In Colab\"/></a>"
      ]
    },
    {
      "cell_type": "code",
      "metadata": {
        "id": "7MbBuxlY-9bP",
        "colab_type": "code",
        "outputId": "2c04e41d-1fda-446f-df1e-bbf3ca182d54",
        "colab": {
          "base_uri": "https://localhost:8080/",
          "height": 35
        }
      },
      "source": [
        "#install API for getting prices\n",
        "pip install bitfinex-tencars"
      ],
      "execution_count": 0,
      "outputs": [
        {
          "output_type": "stream",
          "text": [
            "Requirement already satisfied: bitfinex-tencars in /usr/local/lib/python3.6/dist-packages (0.0.3)\n"
          ],
          "name": "stdout"
        }
      ]
    },
    {
      "cell_type": "code",
      "metadata": {
        "id": "V7f5IlQM-9bd",
        "colab_type": "code",
        "colab": {}
      },
      "source": [
        "#Library imports\n",
        "import bitfinex\n",
        "import pandas as pd\n",
        "import datetime\n",
        "import time"
      ],
      "execution_count": 0,
      "outputs": []
    },
    {
      "cell_type": "code",
      "metadata": {
        "id": "qK9XoVKY-9bm",
        "colab_type": "code",
        "colab": {}
      },
      "source": [
        "# Create API instance\n",
        "def fetch_data(start, stop, symbol, interval, tick_limit, step):\n",
        "    api_v2 = bitfinex.bitfinex_v2.api_v2()\n",
        "    data = []\n",
        "    start = start - step\n",
        "    while start < stop:\n",
        "        start = start + step\n",
        "        end = start + step\n",
        "        res = api_v2.candles(symbol=symbol, interval=interval, limit=tick_limit, start=start, end=end)\n",
        "        data.extend(res)\n",
        "        time.sleep(2)\n",
        "    return data"
      ],
      "execution_count": 0,
      "outputs": []
    },
    {
      "cell_type": "markdown",
      "metadata": {
        "id": "EhINSWoqAUKf",
        "colab_type": "text"
      },
      "source": [
        "Bitcoins Data - 3Hourly"
      ]
    },
    {
      "cell_type": "code",
      "metadata": {
        "id": "_xycORBw-9bt",
        "colab_type": "code",
        "outputId": "626cca1e-95cc-431e-d06d-62ecf8dbca24",
        "colab": {
          "base_uri": "https://localhost:8080/",
          "height": 35
        }
      },
      "source": [
        "# Define query parameters\n",
        "pair = 'btcusd' # Currency pair of interest\n",
        "bin_size = '3h' # This will return 3hourly data\n",
        "limit = 1000    # We want the maximum of 1000 data points\n",
        "\n",
        "# Set step size\n",
        "time_step = 1080000000\n",
        "\n",
        "# Define the start date \n",
        "t_start = datetime.datetime(2017, 1, 1, 0, 0)\n",
        "t_start = time.mktime(t_start.timetuple()) * 1000\n",
        "\n",
        "# Define the end date\n",
        "t_stop = datetime.datetime(2019, 10, 1, 0, 0)\n",
        "t_stop = time.mktime(t_stop.timetuple()) * 1000\n",
        "\n",
        "pair_data = fetch_data(start=t_start, stop=t_stop, symbol=pair, interval=bin_size, tick_limit=limit, step=time_step)"
      ],
      "execution_count": 0,
      "outputs": [
        {
          "output_type": "stream",
          "text": [
            "No keys, only access to public API functions\n"
          ],
          "name": "stdout"
        }
      ]
    },
    {
      "cell_type": "code",
      "metadata": {
        "id": "2GBK6iDd-9b8",
        "colab_type": "code",
        "colab": {}
      },
      "source": [
        "# Create pandas data frame and clean/format data\n",
        "names = ['Date_Time', 'Open', 'Close', 'High', 'Low', 'Volume']\n",
        "df = pd.DataFrame(pair_data, columns=names)\n",
        "df.drop_duplicates(inplace=True)\n",
        "df['Date_Time'] = pd.to_datetime(df['Date_Time'], unit='ms')\n",
        "df.set_index('Date_Time', inplace=True)\n",
        "df.sort_index(inplace=True)"
      ],
      "execution_count": 0,
      "outputs": []
    },
    {
      "cell_type": "code",
      "metadata": {
        "id": "IxBQFC_O-9cB",
        "colab_type": "code",
        "outputId": "2f783b82-fa3d-44b0-fa76-011ca7989302",
        "colab": {
          "base_uri": "https://localhost:8080/",
          "height": 35
        }
      },
      "source": [
        "df.shape"
      ],
      "execution_count": 0,
      "outputs": [
        {
          "output_type": "execute_result",
          "data": {
            "text/plain": [
              "(8201, 5)"
            ]
          },
          "metadata": {
            "tags": []
          },
          "execution_count": 23
        }
      ]
    },
    {
      "cell_type": "code",
      "metadata": {
        "id": "CdzUUfPC-9cH",
        "colab_type": "code",
        "outputId": "2af15711-d8d7-4f89-df81-ce7c056440a4",
        "colab": {
          "base_uri": "https://localhost:8080/",
          "height": 455
        }
      },
      "source": [
        "df "
      ],
      "execution_count": 0,
      "outputs": [
        {
          "output_type": "execute_result",
          "data": {
            "text/html": [
              "<div>\n",
              "<style scoped>\n",
              "    .dataframe tbody tr th:only-of-type {\n",
              "        vertical-align: middle;\n",
              "    }\n",
              "\n",
              "    .dataframe tbody tr th {\n",
              "        vertical-align: top;\n",
              "    }\n",
              "\n",
              "    .dataframe thead th {\n",
              "        text-align: right;\n",
              "    }\n",
              "</style>\n",
              "<table border=\"1\" class=\"dataframe\">\n",
              "  <thead>\n",
              "    <tr style=\"text-align: right;\">\n",
              "      <th></th>\n",
              "      <th>Open</th>\n",
              "      <th>Close</th>\n",
              "      <th>High</th>\n",
              "      <th>Low</th>\n",
              "      <th>Volume</th>\n",
              "    </tr>\n",
              "    <tr>\n",
              "      <th>Date_Time</th>\n",
              "      <th></th>\n",
              "      <th></th>\n",
              "      <th></th>\n",
              "      <th></th>\n",
              "      <th></th>\n",
              "    </tr>\n",
              "  </thead>\n",
              "  <tbody>\n",
              "    <tr>\n",
              "      <th>2017-01-01 00:00:00</th>\n",
              "      <td>966.61</td>\n",
              "      <td>965.000000</td>\n",
              "      <td>967.79</td>\n",
              "      <td>965.00</td>\n",
              "      <td>226.067256</td>\n",
              "    </tr>\n",
              "    <tr>\n",
              "      <th>2017-01-01 03:00:00</th>\n",
              "      <td>965.01</td>\n",
              "      <td>964.880000</td>\n",
              "      <td>965.20</td>\n",
              "      <td>961.26</td>\n",
              "      <td>228.311999</td>\n",
              "    </tr>\n",
              "    <tr>\n",
              "      <th>2017-01-01 06:00:00</th>\n",
              "      <td>963.90</td>\n",
              "      <td>965.460000</td>\n",
              "      <td>967.45</td>\n",
              "      <td>962.60</td>\n",
              "      <td>282.771187</td>\n",
              "    </tr>\n",
              "    <tr>\n",
              "      <th>2017-01-01 09:00:00</th>\n",
              "      <td>965.41</td>\n",
              "      <td>978.160000</td>\n",
              "      <td>978.89</td>\n",
              "      <td>965.37</td>\n",
              "      <td>1806.444917</td>\n",
              "    </tr>\n",
              "    <tr>\n",
              "      <th>2017-01-01 12:00:00</th>\n",
              "      <td>977.11</td>\n",
              "      <td>978.450000</td>\n",
              "      <td>978.59</td>\n",
              "      <td>970.85</td>\n",
              "      <td>490.728218</td>\n",
              "    </tr>\n",
              "    <tr>\n",
              "      <th>...</th>\n",
              "      <td>...</td>\n",
              "      <td>...</td>\n",
              "      <td>...</td>\n",
              "      <td>...</td>\n",
              "      <td>...</td>\n",
              "    </tr>\n",
              "    <tr>\n",
              "      <th>2019-10-22 12:00:00</th>\n",
              "      <td>8310.50</td>\n",
              "      <td>8236.000000</td>\n",
              "      <td>8333.00</td>\n",
              "      <td>8215.80</td>\n",
              "      <td>653.392499</td>\n",
              "    </tr>\n",
              "    <tr>\n",
              "      <th>2019-10-22 15:00:00</th>\n",
              "      <td>8235.90</td>\n",
              "      <td>8229.400000</td>\n",
              "      <td>8247.90</td>\n",
              "      <td>8140.50</td>\n",
              "      <td>647.771000</td>\n",
              "    </tr>\n",
              "    <tr>\n",
              "      <th>2019-10-22 18:00:00</th>\n",
              "      <td>8229.60</td>\n",
              "      <td>8159.000000</td>\n",
              "      <td>8233.30</td>\n",
              "      <td>8102.40</td>\n",
              "      <td>745.783474</td>\n",
              "    </tr>\n",
              "    <tr>\n",
              "      <th>2019-10-22 21:00:00</th>\n",
              "      <td>8159.00</td>\n",
              "      <td>8054.300000</td>\n",
              "      <td>8159.00</td>\n",
              "      <td>8034.90</td>\n",
              "      <td>706.124434</td>\n",
              "    </tr>\n",
              "    <tr>\n",
              "      <th>2019-10-23 00:00:00</th>\n",
              "      <td>8054.00</td>\n",
              "      <td>8058.809701</td>\n",
              "      <td>8074.50</td>\n",
              "      <td>8017.50</td>\n",
              "      <td>579.024497</td>\n",
              "    </tr>\n",
              "  </tbody>\n",
              "</table>\n",
              "<p>8201 rows × 5 columns</p>\n",
              "</div>"
            ],
            "text/plain": [
              "                        Open        Close     High      Low       Volume\n",
              "Date_Time                                                               \n",
              "2017-01-01 00:00:00   966.61   965.000000   967.79   965.00   226.067256\n",
              "2017-01-01 03:00:00   965.01   964.880000   965.20   961.26   228.311999\n",
              "2017-01-01 06:00:00   963.90   965.460000   967.45   962.60   282.771187\n",
              "2017-01-01 09:00:00   965.41   978.160000   978.89   965.37  1806.444917\n",
              "2017-01-01 12:00:00   977.11   978.450000   978.59   970.85   490.728218\n",
              "...                      ...          ...      ...      ...          ...\n",
              "2019-10-22 12:00:00  8310.50  8236.000000  8333.00  8215.80   653.392499\n",
              "2019-10-22 15:00:00  8235.90  8229.400000  8247.90  8140.50   647.771000\n",
              "2019-10-22 18:00:00  8229.60  8159.000000  8233.30  8102.40   745.783474\n",
              "2019-10-22 21:00:00  8159.00  8054.300000  8159.00  8034.90   706.124434\n",
              "2019-10-23 00:00:00  8054.00  8058.809701  8074.50  8017.50   579.024497\n",
              "\n",
              "[8201 rows x 5 columns]"
            ]
          },
          "metadata": {
            "tags": []
          },
          "execution_count": 24
        }
      ]
    },
    {
      "cell_type": "code",
      "metadata": {
        "id": "O-LcO2oJ-9cO",
        "colab_type": "code",
        "colab": {}
      },
      "source": [
        "#Google Colab method to save files to local machine in .csv\n",
        "from google.colab import files\n",
        "df.to_csv('bitcoin_3hrs.csv')\n",
        "files.download(\"bitcoin_3hrs.csv\")"
      ],
      "execution_count": 0,
      "outputs": []
    },
    {
      "cell_type": "code",
      "metadata": {
        "id": "OCpJlnAUJqqs",
        "colab_type": "code",
        "colab": {}
      },
      "source": [
        "#Google Colab method to save files to local machine in Excel\n",
        "df.to_excel('btc_3h.xlsx')\n",
        "files.download('btc_3h.xlsx')"
      ],
      "execution_count": 0,
      "outputs": []
    },
    {
      "cell_type": "markdown",
      "metadata": {
        "id": "YWKCOaswAhiQ",
        "colab_type": "text"
      },
      "source": [
        "Bitcoins Data - 1Hourly"
      ]
    },
    {
      "cell_type": "code",
      "metadata": {
        "id": "inTFH8lf-9cY",
        "colab_type": "code",
        "outputId": "8e197fbd-3be4-439a-ebcd-c3b213ad8eb0",
        "colab": {
          "base_uri": "https://localhost:8080/",
          "height": 35
        }
      },
      "source": [
        "# Define query parameters\n",
        "pair = 'btcusd' # Currency pair of interest\n",
        "bin_size = '1h' # This will return 1hourly data\n",
        "limit = 1000    # We want the maximum of 1000 data points\n",
        "\n",
        "# Set step size\n",
        "time_step = 360000000\n",
        "\n",
        "# Define the start date \n",
        "t_start = datetime.datetime(2017, 1, 1, 0, 0)\n",
        "t_start = time.mktime(t_start.timetuple()) * 1000\n",
        "\n",
        "# Define the end date\n",
        "t_stop = datetime.datetime(2019, 10, 1, 0, 0)\n",
        "t_stop = time.mktime(t_stop.timetuple()) * 1000\n",
        "\n",
        "pair_data = fetch_data(start=t_start, stop=t_stop, symbol=pair, interval=bin_size, tick_limit=limit, step=time_step)"
      ],
      "execution_count": 0,
      "outputs": [
        {
          "output_type": "stream",
          "text": [
            "No keys, only access to public API functions\n"
          ],
          "name": "stdout"
        }
      ]
    },
    {
      "cell_type": "code",
      "metadata": {
        "id": "lVf15Z2hGS52",
        "colab_type": "code",
        "colab": {}
      },
      "source": [
        "# Create pandas data frame and clean/format data\n",
        "names = ['Date_Time', 'Open', 'Close', 'High', 'Low', 'Volume']\n",
        "df2 = pd.DataFrame(pair_data, columns=names)\n",
        "df2.drop_duplicates(inplace=True)\n",
        "df2['Date_Time'] = pd.to_datetime(df2['Date_Time'], unit='ms')\n",
        "df2.set_index('Date_Time', inplace=True)\n",
        "df2.sort_index(inplace=True)"
      ],
      "execution_count": 0,
      "outputs": []
    },
    {
      "cell_type": "code",
      "metadata": {
        "id": "Lw1t829ZIrc0",
        "colab_type": "code",
        "outputId": "352ced3d-d98f-4525-823d-d9248ba3f353",
        "colab": {
          "base_uri": "https://localhost:8080/",
          "height": 35
        }
      },
      "source": [
        "df2.shape"
      ],
      "execution_count": 0,
      "outputs": [
        {
          "output_type": "execute_result",
          "data": {
            "text/plain": [
              "(24194, 5)"
            ]
          },
          "metadata": {
            "tags": []
          },
          "execution_count": 14
        }
      ]
    },
    {
      "cell_type": "code",
      "metadata": {
        "id": "VJAGkU3ZIty-",
        "colab_type": "code",
        "outputId": "10ff5579-3c2f-4c11-fd25-14418153a815",
        "colab": {
          "base_uri": "https://localhost:8080/",
          "height": 455
        }
      },
      "source": [
        "df2"
      ],
      "execution_count": 0,
      "outputs": [
        {
          "output_type": "execute_result",
          "data": {
            "text/html": [
              "<div>\n",
              "<style scoped>\n",
              "    .dataframe tbody tr th:only-of-type {\n",
              "        vertical-align: middle;\n",
              "    }\n",
              "\n",
              "    .dataframe tbody tr th {\n",
              "        vertical-align: top;\n",
              "    }\n",
              "\n",
              "    .dataframe thead th {\n",
              "        text-align: right;\n",
              "    }\n",
              "</style>\n",
              "<table border=\"1\" class=\"dataframe\">\n",
              "  <thead>\n",
              "    <tr style=\"text-align: right;\">\n",
              "      <th></th>\n",
              "      <th>Open</th>\n",
              "      <th>Close</th>\n",
              "      <th>High</th>\n",
              "      <th>Low</th>\n",
              "      <th>Volume</th>\n",
              "    </tr>\n",
              "    <tr>\n",
              "      <th>Date_Time</th>\n",
              "      <th></th>\n",
              "      <th></th>\n",
              "      <th></th>\n",
              "      <th></th>\n",
              "      <th></th>\n",
              "    </tr>\n",
              "  </thead>\n",
              "  <tbody>\n",
              "    <tr>\n",
              "      <th>2017-01-01 00:00:00</th>\n",
              "      <td>966.610000</td>\n",
              "      <td>967.000000</td>\n",
              "      <td>967.790000</td>\n",
              "      <td>965.000000</td>\n",
              "      <td>95.564614</td>\n",
              "    </tr>\n",
              "    <tr>\n",
              "      <th>2017-01-01 01:00:00</th>\n",
              "      <td>967.000000</td>\n",
              "      <td>965.500000</td>\n",
              "      <td>967.250000</td>\n",
              "      <td>965.500000</td>\n",
              "      <td>60.662494</td>\n",
              "    </tr>\n",
              "    <tr>\n",
              "      <th>2017-01-01 02:00:00</th>\n",
              "      <td>965.590000</td>\n",
              "      <td>965.000000</td>\n",
              "      <td>966.590000</td>\n",
              "      <td>965.000000</td>\n",
              "      <td>69.840147</td>\n",
              "    </tr>\n",
              "    <tr>\n",
              "      <th>2017-01-01 03:00:00</th>\n",
              "      <td>965.010000</td>\n",
              "      <td>964.490000</td>\n",
              "      <td>965.010000</td>\n",
              "      <td>963.160000</td>\n",
              "      <td>56.699787</td>\n",
              "    </tr>\n",
              "    <tr>\n",
              "      <th>2017-01-01 04:00:00</th>\n",
              "      <td>963.840000</td>\n",
              "      <td>962.600000</td>\n",
              "      <td>963.900000</td>\n",
              "      <td>961.260000</td>\n",
              "      <td>80.570159</td>\n",
              "    </tr>\n",
              "    <tr>\n",
              "      <th>...</th>\n",
              "      <td>...</td>\n",
              "      <td>...</td>\n",
              "      <td>...</td>\n",
              "      <td>...</td>\n",
              "      <td>...</td>\n",
              "    </tr>\n",
              "    <tr>\n",
              "      <th>2019-10-06 04:00:00</th>\n",
              "      <td>8082.100000</td>\n",
              "      <td>8114.100000</td>\n",
              "      <td>8118.000000</td>\n",
              "      <td>8081.500000</td>\n",
              "      <td>39.858922</td>\n",
              "    </tr>\n",
              "    <tr>\n",
              "      <th>2019-10-06 05:00:00</th>\n",
              "      <td>8114.081823</td>\n",
              "      <td>8089.952108</td>\n",
              "      <td>8115.700000</td>\n",
              "      <td>8076.640154</td>\n",
              "      <td>50.921535</td>\n",
              "    </tr>\n",
              "    <tr>\n",
              "      <th>2019-10-06 06:00:00</th>\n",
              "      <td>8089.900000</td>\n",
              "      <td>7998.700000</td>\n",
              "      <td>8098.800000</td>\n",
              "      <td>7951.600000</td>\n",
              "      <td>757.315096</td>\n",
              "    </tr>\n",
              "    <tr>\n",
              "      <th>2019-10-06 07:00:00</th>\n",
              "      <td>7998.500000</td>\n",
              "      <td>8000.200000</td>\n",
              "      <td>8012.700000</td>\n",
              "      <td>7972.300000</td>\n",
              "      <td>138.447585</td>\n",
              "    </tr>\n",
              "    <tr>\n",
              "      <th>2019-10-06 08:00:00</th>\n",
              "      <td>8000.109821</td>\n",
              "      <td>7911.000000</td>\n",
              "      <td>8000.109821</td>\n",
              "      <td>7911.000000</td>\n",
              "      <td>409.436496</td>\n",
              "    </tr>\n",
              "  </tbody>\n",
              "</table>\n",
              "<p>24194 rows × 5 columns</p>\n",
              "</div>"
            ],
            "text/plain": [
              "                            Open        Close  ...          Low      Volume\n",
              "Date_Time                                      ...                         \n",
              "2017-01-01 00:00:00   966.610000   967.000000  ...   965.000000   95.564614\n",
              "2017-01-01 01:00:00   967.000000   965.500000  ...   965.500000   60.662494\n",
              "2017-01-01 02:00:00   965.590000   965.000000  ...   965.000000   69.840147\n",
              "2017-01-01 03:00:00   965.010000   964.490000  ...   963.160000   56.699787\n",
              "2017-01-01 04:00:00   963.840000   962.600000  ...   961.260000   80.570159\n",
              "...                          ...          ...  ...          ...         ...\n",
              "2019-10-06 04:00:00  8082.100000  8114.100000  ...  8081.500000   39.858922\n",
              "2019-10-06 05:00:00  8114.081823  8089.952108  ...  8076.640154   50.921535\n",
              "2019-10-06 06:00:00  8089.900000  7998.700000  ...  7951.600000  757.315096\n",
              "2019-10-06 07:00:00  7998.500000  8000.200000  ...  7972.300000  138.447585\n",
              "2019-10-06 08:00:00  8000.109821  7911.000000  ...  7911.000000  409.436496\n",
              "\n",
              "[24194 rows x 5 columns]"
            ]
          },
          "metadata": {
            "tags": []
          },
          "execution_count": 15
        }
      ]
    },
    {
      "cell_type": "code",
      "metadata": {
        "id": "tl7x0E4PIzQV",
        "colab_type": "code",
        "colab": {}
      },
      "source": [
        "#Google Colab method to save files to local machine in .csv\n",
        "from google.colab import files\n",
        "df2.to_csv('bitcoin_hourly.csv')\n",
        "files.download('bitcoin_hourly.csv')"
      ],
      "execution_count": 0,
      "outputs": []
    },
    {
      "cell_type": "code",
      "metadata": {
        "id": "bedhrIolJa_0",
        "colab_type": "code",
        "colab": {}
      },
      "source": [
        "#Google Colab method to save files to local machine in Excel\n",
        "df2.to_excel('btc_1h.xlsx')\n",
        "files.download(\"btc_1h.xlsx\")"
      ],
      "execution_count": 0,
      "outputs": []
    },
    {
      "cell_type": "markdown",
      "metadata": {
        "id": "MrcoPrLwBalL",
        "colab_type": "text"
      },
      "source": [
        "Bitcoins Data - 1Hourly (Result)"
      ]
    },
    {
      "cell_type": "code",
      "metadata": {
        "id": "1x82TgQFK1bJ",
        "colab_type": "code",
        "outputId": "b7250b51-f921-4008-b6eb-ab11ac8970a6",
        "colab": {
          "base_uri": "https://localhost:8080/",
          "height": 35
        }
      },
      "source": [
        "# Define query parameters\n",
        "pair = 'btcusd' # Currency pair of interest\n",
        "bin_size = '1h' # This will return 1hourly data\n",
        "limit = 1000    # We want the maximum of 1000 data points\n",
        "\n",
        "# Set step size\n",
        "time_step = 360000000\n",
        "\n",
        "# Define the start date \n",
        "t_start = datetime.datetime(2019, 10, 1, 0, 0)\n",
        "t_start = time.mktime(t_start.timetuple()) * 1000\n",
        "\n",
        "# Define the end date\n",
        "t_stop = datetime.datetime(2019, 11, 1, 0, 0)\n",
        "t_stop = time.mktime(t_stop.timetuple()) * 1000\n",
        "\n",
        "pair_data = fetch_data(start=t_start, stop=t_stop, symbol=pair, interval=bin_size, tick_limit=limit, step=time_step)"
      ],
      "execution_count": 0,
      "outputs": [
        {
          "output_type": "stream",
          "text": [
            "No keys, only access to public API functions\n"
          ],
          "name": "stdout"
        }
      ]
    },
    {
      "cell_type": "code",
      "metadata": {
        "id": "o0naLGFwepBq",
        "colab_type": "code",
        "colab": {}
      },
      "source": [
        "# Create pandas data frame and clean/format data\n",
        "names = ['Date_Time', 'Open', 'Close', 'High', 'Low', 'Volume']\n",
        "df3 = pd.DataFrame(pair_data, columns=names)\n",
        "df3.drop_duplicates(inplace=True)\n",
        "df3['Date_Time'] = pd.to_datetime(df3['Date_Time'], unit='ms')\n",
        "df3.set_index('Date_Time', inplace=True)\n",
        "df3.sort_index(inplace=True)"
      ],
      "execution_count": 0,
      "outputs": []
    },
    {
      "cell_type": "code",
      "metadata": {
        "id": "lITQCAigeywy",
        "colab_type": "code",
        "outputId": "9d5c34da-2cf8-4f5c-8343-496d1b5b1838",
        "colab": {
          "base_uri": "https://localhost:8080/",
          "height": 35
        }
      },
      "source": [
        "df3.shape"
      ],
      "execution_count": 0,
      "outputs": [
        {
          "output_type": "execute_result",
          "data": {
            "text/plain": [
              "(901, 5)"
            ]
          },
          "metadata": {
            "tags": []
          },
          "execution_count": 11
        }
      ]
    },
    {
      "cell_type": "code",
      "metadata": {
        "id": "Mz25EIjte1SG",
        "colab_type": "code",
        "outputId": "2ddf6e36-f01a-412a-97a3-ca05dc78932a",
        "colab": {
          "base_uri": "https://localhost:8080/",
          "height": 455
        }
      },
      "source": [
        "df3"
      ],
      "execution_count": 0,
      "outputs": [
        {
          "output_type": "execute_result",
          "data": {
            "text/html": [
              "<div>\n",
              "<style scoped>\n",
              "    .dataframe tbody tr th:only-of-type {\n",
              "        vertical-align: middle;\n",
              "    }\n",
              "\n",
              "    .dataframe tbody tr th {\n",
              "        vertical-align: top;\n",
              "    }\n",
              "\n",
              "    .dataframe thead th {\n",
              "        text-align: right;\n",
              "    }\n",
              "</style>\n",
              "<table border=\"1\" class=\"dataframe\">\n",
              "  <thead>\n",
              "    <tr style=\"text-align: right;\">\n",
              "      <th></th>\n",
              "      <th>Open</th>\n",
              "      <th>Close</th>\n",
              "      <th>High</th>\n",
              "      <th>Low</th>\n",
              "      <th>Volume</th>\n",
              "    </tr>\n",
              "    <tr>\n",
              "      <th>Date_Time</th>\n",
              "      <th></th>\n",
              "      <th></th>\n",
              "      <th></th>\n",
              "      <th></th>\n",
              "      <th></th>\n",
              "    </tr>\n",
              "  </thead>\n",
              "  <tbody>\n",
              "    <tr>\n",
              "      <th>2019-10-01 00:00:00</th>\n",
              "      <td>8337.348119</td>\n",
              "      <td>8246.500000</td>\n",
              "      <td>8357.400000</td>\n",
              "      <td>8235.504389</td>\n",
              "      <td>182.973090</td>\n",
              "    </tr>\n",
              "    <tr>\n",
              "      <th>2019-10-01 01:00:00</th>\n",
              "      <td>8246.400000</td>\n",
              "      <td>8316.000000</td>\n",
              "      <td>8344.000000</td>\n",
              "      <td>8228.000000</td>\n",
              "      <td>173.054130</td>\n",
              "    </tr>\n",
              "    <tr>\n",
              "      <th>2019-10-01 02:00:00</th>\n",
              "      <td>8317.000000</td>\n",
              "      <td>8456.200000</td>\n",
              "      <td>8469.800000</td>\n",
              "      <td>8312.400000</td>\n",
              "      <td>644.514280</td>\n",
              "    </tr>\n",
              "    <tr>\n",
              "      <th>2019-10-01 03:00:00</th>\n",
              "      <td>8459.400000</td>\n",
              "      <td>8446.800000</td>\n",
              "      <td>8539.300000</td>\n",
              "      <td>8445.000000</td>\n",
              "      <td>582.687830</td>\n",
              "    </tr>\n",
              "    <tr>\n",
              "      <th>2019-10-01 04:00:00</th>\n",
              "      <td>8446.800000</td>\n",
              "      <td>8479.800000</td>\n",
              "      <td>8522.200000</td>\n",
              "      <td>8441.100000</td>\n",
              "      <td>294.070470</td>\n",
              "    </tr>\n",
              "    <tr>\n",
              "      <th>...</th>\n",
              "      <td>...</td>\n",
              "      <td>...</td>\n",
              "      <td>...</td>\n",
              "      <td>...</td>\n",
              "      <td>...</td>\n",
              "    </tr>\n",
              "    <tr>\n",
              "      <th>2019-11-07 08:00:00</th>\n",
              "      <td>9253.100000</td>\n",
              "      <td>9249.000000</td>\n",
              "      <td>9270.000000</td>\n",
              "      <td>9230.581867</td>\n",
              "      <td>222.886220</td>\n",
              "    </tr>\n",
              "    <tr>\n",
              "      <th>2019-11-07 09:00:00</th>\n",
              "      <td>9247.000000</td>\n",
              "      <td>9228.310801</td>\n",
              "      <td>9256.000000</td>\n",
              "      <td>9224.000000</td>\n",
              "      <td>141.180439</td>\n",
              "    </tr>\n",
              "    <tr>\n",
              "      <th>2019-11-07 10:00:00</th>\n",
              "      <td>9228.300000</td>\n",
              "      <td>9210.900000</td>\n",
              "      <td>9228.300000</td>\n",
              "      <td>9150.000000</td>\n",
              "      <td>480.579563</td>\n",
              "    </tr>\n",
              "    <tr>\n",
              "      <th>2019-11-07 11:00:00</th>\n",
              "      <td>9210.000000</td>\n",
              "      <td>9207.327220</td>\n",
              "      <td>9227.600000</td>\n",
              "      <td>9190.900000</td>\n",
              "      <td>78.489698</td>\n",
              "    </tr>\n",
              "    <tr>\n",
              "      <th>2019-11-07 12:00:00</th>\n",
              "      <td>9207.300000</td>\n",
              "      <td>9188.300000</td>\n",
              "      <td>9216.217073</td>\n",
              "      <td>9150.900000</td>\n",
              "      <td>96.823094</td>\n",
              "    </tr>\n",
              "  </tbody>\n",
              "</table>\n",
              "<p>901 rows × 5 columns</p>\n",
              "</div>"
            ],
            "text/plain": [
              "                            Open        Close  ...          Low      Volume\n",
              "Date_Time                                      ...                         \n",
              "2019-10-01 00:00:00  8337.348119  8246.500000  ...  8235.504389  182.973090\n",
              "2019-10-01 01:00:00  8246.400000  8316.000000  ...  8228.000000  173.054130\n",
              "2019-10-01 02:00:00  8317.000000  8456.200000  ...  8312.400000  644.514280\n",
              "2019-10-01 03:00:00  8459.400000  8446.800000  ...  8445.000000  582.687830\n",
              "2019-10-01 04:00:00  8446.800000  8479.800000  ...  8441.100000  294.070470\n",
              "...                          ...          ...  ...          ...         ...\n",
              "2019-11-07 08:00:00  9253.100000  9249.000000  ...  9230.581867  222.886220\n",
              "2019-11-07 09:00:00  9247.000000  9228.310801  ...  9224.000000  141.180439\n",
              "2019-11-07 10:00:00  9228.300000  9210.900000  ...  9150.000000  480.579563\n",
              "2019-11-07 11:00:00  9210.000000  9207.327220  ...  9190.900000   78.489698\n",
              "2019-11-07 12:00:00  9207.300000  9188.300000  ...  9150.900000   96.823094\n",
              "\n",
              "[901 rows x 5 columns]"
            ]
          },
          "metadata": {
            "tags": []
          },
          "execution_count": 12
        }
      ]
    },
    {
      "cell_type": "code",
      "metadata": {
        "id": "sj6HPXmFe3qz",
        "colab_type": "code",
        "colab": {}
      },
      "source": [
        "#Google Colab method to save files to local machine in .csv\n",
        "from google.colab import files\n",
        "df3.to_csv('bitcoin_result_1h.csv')\n",
        "files.download(\"bitcoin_result_1h.csv\")"
      ],
      "execution_count": 0,
      "outputs": []
    },
    {
      "cell_type": "code",
      "metadata": {
        "colab_type": "code",
        "id": "PkoRuVXD58xM",
        "colab": {}
      },
      "source": [
        "#Google Colab method to save files to local machine in Excel\n",
        "df3.to_excel('btc_result1h.xlsx')\n",
        "files.download('btc_result1h.xlsx')"
      ],
      "execution_count": 0,
      "outputs": []
    },
    {
      "cell_type": "markdown",
      "metadata": {
        "id": "hv0eCD3_BthF",
        "colab_type": "text"
      },
      "source": [
        "Bitcoins Data - 3Hourly (Result)"
      ]
    },
    {
      "cell_type": "code",
      "metadata": {
        "id": "61g5VjCkf4mh",
        "colab_type": "code",
        "outputId": "1f20b0bc-2cef-42e3-e1db-a361cf3f1633",
        "colab": {
          "base_uri": "https://localhost:8080/",
          "height": 35
        }
      },
      "source": [
        "# Define query parameters\n",
        "pair = 'btcusd' # Currency pair of interest\n",
        "bin_size = '3h' # This will return 3hourly data\n",
        "limit = 1000    # We want the maximum of 1000 data points\n",
        "\n",
        "# Set step size\n",
        "time_step = 1080000000\n",
        "\n",
        "# Define the start date \n",
        "t_start = datetime.datetime(2019, 10, 6, 0, 0)\n",
        "t_start = time.mktime(t_start.timetuple()) * 1000\n",
        "\n",
        "# Define the end date\n",
        "t_stop = datetime.datetime(2020, 1, 1, 0, 0)\n",
        "t_stop = time.mktime(t_stop.timetuple()) * 1000\n",
        "\n",
        "pair_data = fetch_data(start=t_start, stop=t_stop, symbol=pair, interval=bin_size, tick_limit=limit, step=time_step)"
      ],
      "execution_count": 0,
      "outputs": [
        {
          "output_type": "stream",
          "text": [
            "No keys, only access to public API functions\n"
          ],
          "name": "stdout"
        }
      ]
    },
    {
      "cell_type": "code",
      "metadata": {
        "id": "g-CmmcuH30W5",
        "colab_type": "code",
        "colab": {}
      },
      "source": [
        "# Create pandas data frame and clean/format data\n",
        "names = ['Date_Time', 'Open', 'Close', 'High', 'Low', 'Volume']\n",
        "df4 = pd.DataFrame(pair_data, columns=names)\n",
        "df4.drop_duplicates(inplace=True)\n",
        "df4['Date_Time'] = pd.to_datetime(df4['Date_Time'], unit='ms')\n",
        "df4.set_index('Date_Time', inplace=True)\n",
        "df4.sort_index(inplace=True)"
      ],
      "execution_count": 0,
      "outputs": []
    },
    {
      "cell_type": "code",
      "metadata": {
        "id": "9_VSv2RG4LMp",
        "colab_type": "code",
        "outputId": "79329d9b-89cb-478a-ad56-c1983098e305",
        "colab": {
          "base_uri": "https://localhost:8080/",
          "height": 35
        }
      },
      "source": [
        "df4.shape"
      ],
      "execution_count": 0,
      "outputs": [
        {
          "output_type": "execute_result",
          "data": {
            "text/plain": [
              "(801, 5)"
            ]
          },
          "metadata": {
            "tags": []
          },
          "execution_count": 17
        }
      ]
    },
    {
      "cell_type": "code",
      "metadata": {
        "id": "DrSxpMxV4Ojv",
        "colab_type": "code",
        "outputId": "d3709615-96af-45e9-d56d-8ac94cd32def",
        "colab": {
          "base_uri": "https://localhost:8080/",
          "height": 238
        }
      },
      "source": [
        "df4.head()"
      ],
      "execution_count": 0,
      "outputs": [
        {
          "output_type": "execute_result",
          "data": {
            "text/html": [
              "<div>\n",
              "<style scoped>\n",
              "    .dataframe tbody tr th:only-of-type {\n",
              "        vertical-align: middle;\n",
              "    }\n",
              "\n",
              "    .dataframe tbody tr th {\n",
              "        vertical-align: top;\n",
              "    }\n",
              "\n",
              "    .dataframe thead th {\n",
              "        text-align: right;\n",
              "    }\n",
              "</style>\n",
              "<table border=\"1\" class=\"dataframe\">\n",
              "  <thead>\n",
              "    <tr style=\"text-align: right;\">\n",
              "      <th></th>\n",
              "      <th>Open</th>\n",
              "      <th>Close</th>\n",
              "      <th>High</th>\n",
              "      <th>Low</th>\n",
              "      <th>Volume</th>\n",
              "    </tr>\n",
              "    <tr>\n",
              "      <th>Date_Time</th>\n",
              "      <th></th>\n",
              "      <th></th>\n",
              "      <th></th>\n",
              "      <th></th>\n",
              "      <th></th>\n",
              "    </tr>\n",
              "  </thead>\n",
              "  <tbody>\n",
              "    <tr>\n",
              "      <th>2019-10-06 00:00:00</th>\n",
              "      <td>8163.2</td>\n",
              "      <td>8093.500000</td>\n",
              "      <td>8183.235406</td>\n",
              "      <td>8050.200000</td>\n",
              "      <td>355.451322</td>\n",
              "    </tr>\n",
              "    <tr>\n",
              "      <th>2019-10-06 03:00:00</th>\n",
              "      <td>8093.4</td>\n",
              "      <td>8089.952108</td>\n",
              "      <td>8118.000000</td>\n",
              "      <td>8066.977788</td>\n",
              "      <td>179.127168</td>\n",
              "    </tr>\n",
              "    <tr>\n",
              "      <th>2019-10-06 06:00:00</th>\n",
              "      <td>8089.9</td>\n",
              "      <td>7911.000000</td>\n",
              "      <td>8098.800000</td>\n",
              "      <td>7911.000000</td>\n",
              "      <td>1305.199177</td>\n",
              "    </tr>\n",
              "    <tr>\n",
              "      <th>2019-10-06 09:00:00</th>\n",
              "      <td>7911.0</td>\n",
              "      <td>7977.000000</td>\n",
              "      <td>7991.500000</td>\n",
              "      <td>7911.000000</td>\n",
              "      <td>385.885827</td>\n",
              "    </tr>\n",
              "    <tr>\n",
              "      <th>2019-10-06 12:00:00</th>\n",
              "      <td>7977.0</td>\n",
              "      <td>7943.300000</td>\n",
              "      <td>7997.700000</td>\n",
              "      <td>7890.300000</td>\n",
              "      <td>844.319189</td>\n",
              "    </tr>\n",
              "  </tbody>\n",
              "</table>\n",
              "</div>"
            ],
            "text/plain": [
              "                       Open        Close         High          Low       Volume\n",
              "Date_Time                                                                      \n",
              "2019-10-06 00:00:00  8163.2  8093.500000  8183.235406  8050.200000   355.451322\n",
              "2019-10-06 03:00:00  8093.4  8089.952108  8118.000000  8066.977788   179.127168\n",
              "2019-10-06 06:00:00  8089.9  7911.000000  8098.800000  7911.000000  1305.199177\n",
              "2019-10-06 09:00:00  7911.0  7977.000000  7991.500000  7911.000000   385.885827\n",
              "2019-10-06 12:00:00  7977.0  7943.300000  7997.700000  7890.300000   844.319189"
            ]
          },
          "metadata": {
            "tags": []
          },
          "execution_count": 19
        }
      ]
    },
    {
      "cell_type": "code",
      "metadata": {
        "id": "kO1k4X8341pp",
        "colab_type": "code",
        "outputId": "bc94c781-2c86-4c57-fe97-3a1bb0b4608c",
        "colab": {
          "base_uri": "https://localhost:8080/",
          "height": 238
        }
      },
      "source": [
        "df4.tail()"
      ],
      "execution_count": 0,
      "outputs": [
        {
          "output_type": "execute_result",
          "data": {
            "text/html": [
              "<div>\n",
              "<style scoped>\n",
              "    .dataframe tbody tr th:only-of-type {\n",
              "        vertical-align: middle;\n",
              "    }\n",
              "\n",
              "    .dataframe tbody tr th {\n",
              "        vertical-align: top;\n",
              "    }\n",
              "\n",
              "    .dataframe thead th {\n",
              "        text-align: right;\n",
              "    }\n",
              "</style>\n",
              "<table border=\"1\" class=\"dataframe\">\n",
              "  <thead>\n",
              "    <tr style=\"text-align: right;\">\n",
              "      <th></th>\n",
              "      <th>Open</th>\n",
              "      <th>Close</th>\n",
              "      <th>High</th>\n",
              "      <th>Low</th>\n",
              "      <th>Volume</th>\n",
              "    </tr>\n",
              "    <tr>\n",
              "      <th>Date_Time</th>\n",
              "      <th></th>\n",
              "      <th></th>\n",
              "      <th></th>\n",
              "      <th></th>\n",
              "      <th></th>\n",
              "    </tr>\n",
              "  </thead>\n",
              "  <tbody>\n",
              "    <tr>\n",
              "      <th>2020-01-13 12:00:00</th>\n",
              "      <td>8070.513513</td>\n",
              "      <td>8079.02439</td>\n",
              "      <td>8097.800000</td>\n",
              "      <td>8053.600000</td>\n",
              "      <td>362.994178</td>\n",
              "    </tr>\n",
              "    <tr>\n",
              "      <th>2020-01-13 15:00:00</th>\n",
              "      <td>8079.100000</td>\n",
              "      <td>8084.50000</td>\n",
              "      <td>8117.800000</td>\n",
              "      <td>8061.000000</td>\n",
              "      <td>422.246138</td>\n",
              "    </tr>\n",
              "    <tr>\n",
              "      <th>2020-01-13 18:00:00</th>\n",
              "      <td>8084.500000</td>\n",
              "      <td>8145.20000</td>\n",
              "      <td>8159.900000</td>\n",
              "      <td>8082.900000</td>\n",
              "      <td>409.614543</td>\n",
              "    </tr>\n",
              "    <tr>\n",
              "      <th>2020-01-13 21:00:00</th>\n",
              "      <td>8145.124477</td>\n",
              "      <td>8095.80000</td>\n",
              "      <td>8149.300000</td>\n",
              "      <td>8093.877445</td>\n",
              "      <td>171.904430</td>\n",
              "    </tr>\n",
              "    <tr>\n",
              "      <th>2020-01-14 00:00:00</th>\n",
              "      <td>8095.800000</td>\n",
              "      <td>8415.00000</td>\n",
              "      <td>8467.983802</td>\n",
              "      <td>8095.800000</td>\n",
              "      <td>2530.881564</td>\n",
              "    </tr>\n",
              "  </tbody>\n",
              "</table>\n",
              "</div>"
            ],
            "text/plain": [
              "                            Open       Close  ...          Low       Volume\n",
              "Date_Time                                     ...                          \n",
              "2020-01-13 12:00:00  8070.513513  8079.02439  ...  8053.600000   362.994178\n",
              "2020-01-13 15:00:00  8079.100000  8084.50000  ...  8061.000000   422.246138\n",
              "2020-01-13 18:00:00  8084.500000  8145.20000  ...  8082.900000   409.614543\n",
              "2020-01-13 21:00:00  8145.124477  8095.80000  ...  8093.877445   171.904430\n",
              "2020-01-14 00:00:00  8095.800000  8415.00000  ...  8095.800000  2530.881564\n",
              "\n",
              "[5 rows x 5 columns]"
            ]
          },
          "metadata": {
            "tags": []
          },
          "execution_count": 20
        }
      ]
    },
    {
      "cell_type": "code",
      "metadata": {
        "id": "tvwL3vgf6BJn",
        "colab_type": "code",
        "colab": {}
      },
      "source": [
        "#Google Colab method to save files to local machine in .csv\n",
        "from google.colab import files\n",
        "df4.to_csv('bitcoin_result_3h.csv')\n",
        "files.download(\"bitcoin_result_3h.csv\")"
      ],
      "execution_count": 0,
      "outputs": []
    },
    {
      "cell_type": "code",
      "metadata": {
        "id": "-j-QkO5S54FZ",
        "colab_type": "code",
        "colab": {}
      },
      "source": [
        "#Google Colab method to save files to local machine in Excel\n",
        "df4.to_excel('btc_result3h.xlsx')\n",
        "files.download('btc_result3h.xlsx')"
      ],
      "execution_count": 0,
      "outputs": []
    },
    {
      "cell_type": "code",
      "metadata": {
        "id": "mRA0ctAl6OOj",
        "colab_type": "code",
        "colab": {}
      },
      "source": [
        ""
      ],
      "execution_count": 0,
      "outputs": []
    }
  ]
}